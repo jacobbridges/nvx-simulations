{
 "cells": [
  {
   "metadata": {},
   "cell_type": "markdown",
   "source": [
    "# Boltzmann Wealth Model\n",
    "\n",
    "Build a very primitive Boltzmann wealth model felt a good place to start."
   ],
   "id": "1e6a6963f2e39ee2"
  },
  {
   "metadata": {
    "ExecuteTime": {
     "end_time": "2025-08-20T18:10:35.554949Z",
     "start_time": "2025-08-20T18:10:35.551713Z"
    }
   },
   "cell_type": "code",
   "source": [
    "from mesa.model import Model\n",
    "from mesa.space import MultiGrid\n",
    "from mesa.datacollection import DataCollector\n",
    "import matplotlib.pyplot as plt\n",
    "import seaborn as sns\n",
    "\n",
    "from src.nvx_sim.economy.agents import WealthAgent"
   ],
   "id": "b31edd5282d832",
   "outputs": [],
   "execution_count": 66
  },
  {
   "metadata": {
    "ExecuteTime": {
     "end_time": "2025-08-20T18:10:35.563399Z",
     "start_time": "2025-08-20T18:10:35.555950Z"
    }
   },
   "cell_type": "code",
   "source": [
    "class SimpleWealthAgent(WealthAgent):\n",
    "    \"\"\"\n",
    "    A simple agent which gives their money away to nearby agents at random.\n",
    "    \"\"\"\n",
    "    def __init__(self, model, initial_wealth = 1, give_wealth_chance = 0.5):\n",
    "        super().__init__(model, initial_wealth)\n",
    "        self.give_wealth_chance = give_wealth_chance\n",
    "    \n",
    "    def step(self):\n",
    "        self.move()\n",
    "        cellmates = self.model.grid.get_cell_list_contents([self.pos])\n",
    "        cellmates.pop(cellmates.index(self))\n",
    "        \n",
    "        if len(cellmates) > 0 and self.wealth > 0 and self.random.random() <= self.give_wealth_chance:\n",
    "            target = self.random.choice(cellmates)\n",
    "            self.give_wealth(1, target)"
   ],
   "id": "84156d62178c85af",
   "outputs": [],
   "execution_count": 67
  },
  {
   "metadata": {
    "ExecuteTime": {
     "end_time": "2025-08-20T18:10:35.572511Z",
     "start_time": "2025-08-20T18:10:35.564400Z"
    }
   },
   "cell_type": "code",
   "source": [
    "class BoltzmannWealthModel(Model):\n",
    "    \"\"\"\n",
    "    A simple economic model where agents exchange currency at random.\n",
    "    \"\"\"\n",
    "    \n",
    "    def __init__(self, n=100, width=10, height=10, seed=None):\n",
    "        super().__init__(seed=seed)\n",
    "        \n",
    "        self.num_agents = n\n",
    "        self.grid = MultiGrid(width, height, torus=True)\n",
    "        self.static = 1\n",
    "        \n",
    "        self.datacollector = DataCollector(\n",
    "            agent_reporters={\"wealth\": \"wealth\"},\n",
    "            model_reporters={\"static\": \"static\"},\n",
    "        )\n",
    "        \n",
    "        for _ in range(self.num_agents):\n",
    "            agent = SimpleWealthAgent(self, initial_wealth=1, give_wealth_chance=0.5)\n",
    "            x = self.random.randrange(self.grid.width)\n",
    "            y = self.random.randrange(self.grid.height)\n",
    "            self.grid.place_agent(agent, (x, y))\n",
    "        \n",
    "        self.datacollector.collect(self)\n",
    "        \n",
    "    def step(self):\n",
    "        self.agents.shuffle_do(\"step\")\n",
    "        self.datacollector.collect(self)"
   ],
   "id": "50a20c29171e82dd",
   "outputs": [],
   "execution_count": 68
  },
  {
   "metadata": {
    "ExecuteTime": {
     "end_time": "2025-08-20T18:10:35.637287Z",
     "start_time": "2025-08-20T18:10:35.573512Z"
    }
   },
   "cell_type": "code",
   "source": [
    "model = BoltzmannWealthModel(50, 10, 10)\n",
    "for i in range(200):\n",
    "    model.step()\n",
    "\n",
    "model_data = model.datacollector.get_model_vars_dataframe()\n",
    "agent_data = model.datacollector.get_agent_vars_dataframe()\n"
   ],
   "id": "ad28e569562bf8de",
   "outputs": [],
   "execution_count": 69
  },
  {
   "metadata": {
    "ExecuteTime": {
     "end_time": "2025-08-20T18:10:35.642864Z",
     "start_time": "2025-08-20T18:10:35.638288Z"
    }
   },
   "cell_type": "code",
   "source": "agent_data_last_step = agent_data[agent_data.index.get_level_values('Step').isin([200])]",
   "id": "4e7060bcfaafd9a4",
   "outputs": [],
   "execution_count": 70
  },
  {
   "metadata": {
    "ExecuteTime": {
     "end_time": "2025-08-20T18:19:06.783917Z",
     "start_time": "2025-08-20T18:19:06.676235Z"
    }
   },
   "cell_type": "code",
   "source": [
    "# Density plot\n",
    "plt.figure()\n",
    "sns.kdeplot(agent_data_last_step['wealth'], color='b')\n",
    "plt.xlim(-1, 9)\n",
    "plt.xticks([-1, 0, 1, 2, 3, 4, 5, 6, 7, 8, 9])\n",
    "plt.ylim(0, 1)\n",
    "plt.yticks([0, 0.2, 0.4, 0.6, 0.8, 1])\n",
    "plt.title(f'Wealth Density at Simulation End')\n",
    "plt.show()\n",
    "plt.close()"
   ],
   "id": "8c83ba9b3da9ab52",
   "outputs": [
    {
     "data": {
      "text/plain": [
       "<Figure size 640x480 with 1 Axes>"
      ],
      "image/png": "[encoded data removed]"
     },
     "metadata": {},
     "output_type": "display_data"
    }
   ],
   "execution_count": 76
  },
  {
   "metadata": {
    "ExecuteTime": {
     "end_time": "2025-08-20T18:10:58.645026Z",
     "start_time": "2025-08-20T18:10:35.776200Z"
    }
   },
   "cell_type": "code",
   "source": [
    "# Create a gif of the wealth density among agents over time\n",
    "SHOULD_CREATE_GIF = True\n",
    "\n",
    "if SHOULD_CREATE_GIF:\n",
    "    import imageio\n",
    "    import os, os.path\n",
    "    \n",
    "    if os.path.exists(\"e01_density.gif\"):\n",
    "        os.remove(\"e01_density.gif\")\n",
    "    \n",
    "    filenames = []\n",
    "    for step in agent_data.index.get_level_values('Step').unique():\n",
    "        if step == 0:\n",
    "            continue\n",
    "        plt.figure()\n",
    "        sns.kdeplot(\n",
    "            agent_data[agent_data.index.get_level_values('Step').isin([step])]['wealth'], \n",
    "            color='b',\n",
    "        )\n",
    "        plt.xlim(-1, 9)\n",
    "        plt.xticks([-1, 0, 1, 2, 3, 4, 5, 6, 7, 8, 9])\n",
    "        plt.ylim(0, 1)\n",
    "        plt.yticks([0, 0.2, 0.4, 0.6, 0.8, 1])\n",
    "        plt.title(f'Agent Density at Step {step}')\n",
    "        filename = f\"e01_frame_{step:03d}.png\"\n",
    "        plt.savefig(filename)\n",
    "        filenames.append(filename)\n",
    "        plt.close()\n",
    "        \n",
    "    with imageio.get_writer(\"e01_density.gif\", mode=\"I\", fps=10) as writer:\n",
    "        for filename in filenames:\n",
    "            im = imageio.v2.imread(filename)\n",
    "            writer.append_data(im)\n",
    "            \n",
    "    for filename in filenames:\n",
    "        os.remove(filename)"
   ],
   "id": "403d53a85c45137e",
   "outputs": [],
   "execution_count": 73
  },
  {
   "metadata": {},
   "cell_type": "markdown",
   "source": "![Animated Density Graph](e01_density.gif)",
   "id": "d2b5007cf9a89ad9"
  }
 ],
 "metadata": {
  "kernelspec": {
   "display_name": "Python 3",
   "language": "python",
   "name": "python3"
  },
  "language_info": {
   "codemirror_mode": {
    "name": "ipython",
    "version": 2
   },
   "file_extension": ".py",
   "mimetype": "text/x-python",
   "name": "python",
   "nbconvert_exporter": "python",
   "pygments_lexer": "ipython2",
   "version": "2.7.6"
  }
 },
 "nbformat": 4,
 "nbformat_minor": 5
}
