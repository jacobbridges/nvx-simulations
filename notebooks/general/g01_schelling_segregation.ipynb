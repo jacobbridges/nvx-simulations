{
 "cells": [
  {
   "metadata": {},
   "cell_type": "markdown",
   "source": [
    "# Schelling's Segregation Model\n",
    "\n",
    "Developed in the 1960s by economist Thomas Schelling, this model's primary purpose was to provide an explanation for the issue of residential segregation. It demonstrates how macro-level social patterns can emerge from the micro-level choices of the individual.\n",
    "\n",
    "The mechanics of the model are simple:\n",
    "\n",
    "1. The model consists of a fixed number of agents.\n",
    "2. The environment is generally a 2D grid where only one agent can occupy a cell at a time.\n",
    "3. Agents are randomly distributed across the grid. Each agent is a member of a group.\n",
    "4. Each agent is given a tolerance threshold (τ) which represents the minimum percentage of same-group neighbors in the immediate vicinity.\n",
    "\n",
    "## Notebook Goals\n",
    "\n",
    "- Replicate the model.\n",
    "- Visualize the grid change over time as agents move around.\n",
    "- Experiment with different tolerance threshold values and simulation steps."
   ],
   "id": "41d24e020dce1860"
  },
  {
   "metadata": {
    "ExecuteTime": {
     "end_time": "2025-08-22T04:27:13.512582Z",
     "start_time": "2025-08-22T04:27:13.508406Z"
    }
   },
   "cell_type": "code",
   "source": [
    "from enum import Enum\n",
    "from mesa.agent import Agent\n",
    "from mesa.model import Model\n",
    "from mesa.space import MultiGrid\n",
    "from mesa.datacollection import DataCollector\n",
    "import matplotlib.pyplot as plt\n",
    "import seaborn as sns\n",
    "import numpy as np"
   ],
   "id": "b7f9ef34320454d0",
   "outputs": [],
   "execution_count": 42
  },
  {
   "metadata": {
    "ExecuteTime": {
     "end_time": "2025-08-22T04:27:13.561830Z",
     "start_time": "2025-08-22T04:27:13.555472Z"
    }
   },
   "cell_type": "code",
   "source": [
    "class Group(Enum):\n",
    "    red = \"red\"\n",
    "    blue = \"blue\"\n",
    "\n",
    "class SegregatedAgent(Agent):\n",
    "    \"\"\"\n",
    "    A simple agent which belongs to a group and will move around the grid to satisfy its tolerance_threshold.\n",
    "    \n",
    "    Attributes:\n",
    "        group (Group): The group that this agent belongs to.\n",
    "        tolerance_threshold (float): The minimum percentage of same-group neighbors in the agent's immediate neighborhood.\n",
    "    \"\"\"\n",
    "    def __init__(self, model, group, tolerance_threshold = 0.5):\n",
    "        super().__init__(model)\n",
    "        self.group = group\n",
    "        self.tolerance_threshold = tolerance_threshold\n",
    "        \n",
    "    def move(self):\n",
    "        \"\"\"\n",
    "        Move the agent to an unoccupied neighboring cell.\n",
    "        \n",
    "        TODO: Prefer to move near members of the same group. \n",
    "        \"\"\"\n",
    "        # Get the cell coordinates around the current cell\n",
    "        coords = self.model.grid.get_neighborhood(\n",
    "            self.pos,\n",
    "            moore=True,\n",
    "            include_center=False,\n",
    "        )\n",
    "        \n",
    "        # Filter down to only the empty cells\n",
    "        empty_coords = [coord for coord in coords if self.model.grid.is_cell_empty(coord)]\n",
    "        \n",
    "        # If any empty coordinates are found, move to one randomly\n",
    "        if empty_coords:\n",
    "            self.model.grid.move_agent(\n",
    "                self, \n",
    "                self.random.choice(empty_coords),\n",
    "            )\n",
    "            \n",
    "    def step(self):\n",
    "        neighbors = self.model.grid.get_neighbors(\n",
    "            self.pos,\n",
    "            moore=True,\n",
    "            include_center=False,\n",
    "        )\n",
    "        \n",
    "        if len(neighbors) == 0:\n",
    "            # What to do if an agent is alone? Have them stay put or move\n",
    "            # them around randomly?\n",
    "            # TODO: Make this an option in the simulation.\n",
    "            return\n",
    "        \n",
    "        neighborhood_group_percentage = len([n for n in neighbors if n.group == self.group]) / len(neighbors)\n",
    "        \n",
    "        # If the neighborhood group \"score\" is less the agent's tolerance level, move away.\n",
    "        if neighborhood_group_percentage < self.tolerance_threshold:\n",
    "            self.move()"
   ],
   "id": "61d0e6db1ce24e4f",
   "outputs": [],
   "execution_count": 43
  },
  {
   "metadata": {
    "ExecuteTime": {
     "end_time": "2025-08-22T04:27:13.571923Z",
     "start_time": "2025-08-22T04:27:13.562861Z"
    }
   },
   "cell_type": "code",
   "source": [
    "class SchellingSegregationModel(Model):\n",
    "    \"\"\"\n",
    "    A simple model showcasing society segregation from mild individual preferences.\n",
    "    \"\"\"\n",
    "    def __init__(self, width=15, height=15, empty_grid_percent=0.5, seed=None):\n",
    "        super().__init__(seed=seed)\n",
    "        \n",
    "        self.grid = MultiGrid(width, height, torus=False)\n",
    "        self.num_agents = int(width * height - width * height * empty_grid_percent)\n",
    "        self.datacollector = DataCollector(\n",
    "            agent_reporters={\"pos\": \"pos\"},\n",
    "            model_reporters={\"grid_state\": self.get_grid_state} ,\n",
    "        )\n",
    "        \n",
    "        agents = []\n",
    "        for i in range(self.num_agents):\n",
    "            agents.append(SegregatedAgent(\n",
    "                self,\n",
    "                Group.red if i % 2 == 0 else Group.blue,\n",
    "                tolerance_threshold=0.5,\n",
    "            ))\n",
    "            \n",
    "        for agent in agents:\n",
    "            self.grid.place_agent(agent, (0, 0))\n",
    "            self.grid.move_to_empty(agent)\n",
    "        \n",
    "        self.datacollector.collect(self)\n",
    "        \n",
    "    def get_grid_state(self):\n",
    "        \"\"\"\n",
    "        Creates a 2D numpy array representing the current state of the grid.\n",
    "        \"\"\"\n",
    "        state = np.zeros((self.grid.width, self.grid.height))\n",
    "        \n",
    "        for cell in self.grid.coord_iter():\n",
    "            agents, (x, y) = cell\n",
    "            if agents:\n",
    "                agent = agents[0]\n",
    "                state[x][y] = 1 if agent.group == Group.red else -1\n",
    "            else:\n",
    "                state[x][y] = 0\n",
    "                \n",
    "        return state\n",
    "                \n",
    "    def step(self):\n",
    "        self.agents.shuffle_do(\"step\")\n",
    "        self.datacollector.collect(self)"
   ],
   "id": "1ac9376defe380cf",
   "outputs": [],
   "execution_count": 44
  },
  {
   "metadata": {
    "ExecuteTime": {
     "end_time": "2025-08-22T04:27:13.740268Z",
     "start_time": "2025-08-22T04:27:13.572924Z"
    }
   },
   "cell_type": "code",
   "source": [
    "NUM_STEPS = 50\n",
    "GRID_WIDTH = 15\n",
    "GRID_HEIGHT = 15\n",
    "PERCENT_EMPTY_GRID = 0.5\n",
    "SEED = 1252\n",
    "\n",
    "model = SchellingSegregationModel(GRID_WIDTH, GRID_HEIGHT, PERCENT_EMPTY_GRID, SEED)\n",
    "for i in range(NUM_STEPS):\n",
    "    model.step()\n",
    "\n",
    "model_data = model.datacollector.get_model_vars_dataframe()\n",
    "agent_data = model.datacollector.get_agent_vars_dataframe()"
   ],
   "id": "3cd293ac31716357",
   "outputs": [],
   "execution_count": 45
  },
  {
   "metadata": {
    "ExecuteTime": {
     "end_time": "2025-08-22T04:27:13.997464Z",
     "start_time": "2025-08-22T04:27:13.741268Z"
    }
   },
   "cell_type": "code",
   "source": [
    "grid_state_data = model_data.iloc[0][\"grid_state\"]\n",
    "plt.figure(figsize=(10, 8))\n",
    "ax = sns.heatmap(grid_state_data, cmap=sns.color_palette(\"vlag\", as_cmap=True), linewidths=.5)\n",
    "ax.set_title(f\"Grid at First Step of Simulation\")\n",
    "plt.show()\n",
    "plt.close()"
   ],
   "id": "4e2b489cc7558e5e",
   "outputs": [
    {
     "data": {
      "text/plain": [
       "<Figure size 1000x800 with 2 Axes>"
      ],
      "image/png": "[encoded data removed]"
     },
     "metadata": {},
     "output_type": "display_data"
    }
   ],
   "execution_count": 46
  },
  {
   "metadata": {
    "ExecuteTime": {
     "end_time": "2025-08-22T04:29:04.621845Z",
     "start_time": "2025-08-22T04:28:52.868350Z"
    }
   },
   "cell_type": "code",
   "source": [
    "if True:\n",
    "    import io, imageio\n",
    "    with imageio.get_writer(\"g01_grid.gif\", mode=\"I\", fps=(NUM_STEPS // 10)) as writer:\n",
    "        for step, row in model_data.iterrows():\n",
    "            grid_state_data = row[\"grid_state\"]\n",
    "            plt.figure()\n",
    "            ax = sns.heatmap(grid_state_data, cmap=sns.color_palette(\"vlag\", as_cmap=True), linewidths=.5)\n",
    "            ax.set_title(f\"Grid at Step {step}\")\n",
    "            buffer = io.BytesIO()\n",
    "            plt.savefig(buffer, format=\"png\")\n",
    "            buffer.seek(0)\n",
    "            im = imageio.v2.imread(buffer, format=\"png\")\n",
    "            writer.append_data(im)\n",
    "            plt.close()"
   ],
   "id": "c3d3ba02f75df9c",
   "outputs": [],
   "execution_count": 49
  },
  {
   "metadata": {},
   "cell_type": "markdown",
   "source": "![animated grid gif](g01_grid.gif)",
   "id": "202fb589f93d62c"
  }
 ],
 "metadata": {
  "kernelspec": {
   "display_name": "Python 3",
   "language": "python",
   "name": "python3"
  },
  "language_info": {
   "codemirror_mode": {
    "name": "ipython",
    "version": 2
   },
   "file_extension": ".py",
   "mimetype": "text/x-python",
   "name": "python",
   "nbconvert_exporter": "python",
   "pygments_lexer": "ipython2",
   "version": "2.7.6"
  }
 },
 "nbformat": 4,
 "nbformat_minor": 5
}
